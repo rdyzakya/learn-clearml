{
 "cells": [
  {
   "cell_type": "code",
   "execution_count": null,
   "metadata": {},
   "outputs": [
    {
     "name": "stdout",
     "output_type": "stream",
     "text": [
      "ClearML results page: https://app.clear.ml/projects/86aa7311f78e4a6cbb0f657d1c3117a6/experiments/79d7657919ee4865b59727101402f235/output/log\n",
      "ClearML dataset page: https://app.clear.ml/datasets/simple/86aa7311f78e4a6cbb0f657d1c3117a6/experiments/79d7657919ee4865b59727101402f235\n"
     ]
    }
   ],
   "source": [
    "from clearml import Dataset\n",
    "from pathlib import Path\n",
    "import os\n",
    "\n",
    "ds = Dataset.create(\n",
    "    dataset_name='mnist',\n",
    "    dataset_project='test-clearml'\n",
    ")"
   ]
  },
  {
   "cell_type": "code",
   "execution_count": null,
   "metadata": {},
   "outputs": [
    {
     "name": "stdout",
     "output_type": "stream",
     "text": [
      "Generating SHA2 hash for 26179 files\n"
     ]
    },
    {
     "name": "stderr",
     "output_type": "stream",
     "text": [
      "100%|██████████| 26179/26179 [00:01<00:00, 21838.09it/s]\n"
     ]
    },
    {
     "name": "stdout",
     "output_type": "stream",
     "text": [
      "Hash generation completed\n",
      "2024-11-01 14:09:06,806 - clearml.storage - INFO - Uploading: 10.95MB to /tmp/state.71umq6ut.json\n"
     ]
    },
    {
     "name": "stderr",
     "output_type": "stream",
     "text": [
      "██████████████████████████████▉ 100% | 10.94/10.95 MB [00:06<00:00,  1.63MB/s]: \n"
     ]
    },
    {
     "data": {
      "text/plain": [
       "26179"
      ]
     },
     "execution_count": 2,
     "metadata": {},
     "output_type": "execute_result"
    }
   ],
   "source": [
    "\n",
    "ds.add_files(\n",
    "    path='./data/1'\n",
    ")"
   ]
  },
  {
   "cell_type": "code",
   "execution_count": 11,
   "metadata": {},
   "outputs": [
    {
     "name": "stdout",
     "output_type": "stream",
     "text": [
      "Uploading dataset changes (22592 files compressed to 511.17 MiB) to https://files.clear.ml\n",
      "2024-11-01 14:16:02,748 - clearml.storage - INFO - Uploading: 511.17MB to /tmp/dataset.79d7657919ee4865b59727101402f235.xq9szer3.zip\n"
     ]
    },
    {
     "name": "stderr",
     "output_type": "stream",
     "text": [
      "▉                                3% | 15.00/511.17 MB [00:04<03:02,  2.71MB/s]: "
     ]
    },
    {
     "name": "stdout",
     "output_type": "stream",
     "text": [
      "2024-11-01 14:16:08,596 - clearml.storage - INFO - Uploading: 8.33MB to /tmp/state.fbjhv7z2.json\n"
     ]
    },
    {
     "name": "stderr",
     "output_type": "stream",
     "text": [
      "██                               7% | 35.00/511.17 MB [00:17<04:37,  1.72MB/s]: /home/aidev6/anaconda3/envs/test-clearml/lib/python3.12/site-packages/tqdm/std.py:636: TqdmWarning: clamping frac to range [0, 1]\n",
      "  full_bar = Bar(frac,\n",
      "█████████████████████████████████ 100% | 8.33/8.33 MB [00:15<00:00,  1.80s/MB]: \n",
      "██▎                              8% | 40.00/511.17 MB [00:21<05:26,  1.44MB/s]: "
     ]
    },
    {
     "name": "stdout",
     "output_type": "stream",
     "text": [
      "Uploading dataset changes (3587 files compressed to 77.47 MiB) to https://files.clear.ml\n"
     ]
    },
    {
     "name": "stderr",
     "output_type": "stream",
     "text": [
      "██▋                              9% | 45.00/511.17 MB [00:25<05:29,  1.41MB/s]: "
     ]
    },
    {
     "name": "stdout",
     "output_type": "stream",
     "text": [
      "2024-11-01 14:16:31,734 - clearml.storage - INFO - Uploading: 77.47MB to /tmp/dataset.79d7657919ee4865b59727101402f235.x302xcb8.zip\n"
     ]
    },
    {
     "name": "stderr",
     "output_type": "stream",
     "text": []
    },
    {
     "name": "stdout",
     "output_type": "stream",
     "text": [
      "2024-11-01 14:16:33,530 - clearml.storage - INFO - Uploading: 7.92MB to /tmp/state.plcjmfp6.json\n"
     ]
    },
    {
     "name": "stderr",
     "output_type": "stream",
     "text": [
      "\n",
      "██▉                             10% | 50.00/511.17 MB [00:31<06:41,  1.15MB/s]: \n",
      "████████████████████████████████▉ 100% | 7.91/7.92 MB [00:06<00:00,  1.19MB/s]: \n",
      "██████████████████████████████▉ 100% | 77.47/77.47 MB [01:28<00:00,  1.14s/MB]: \n",
      "█████████████████████████████ 100% | 511.17/511.17 MB [05:52<00:00,  1.45MB/s]: \n"
     ]
    },
    {
     "name": "stdout",
     "output_type": "stream",
     "text": [
      "File compression and upload completed: total size 588.64 MiB, 2 chunk(s) stored (average size 294.32 MiB)\n",
      "2024-11-01 14:22:07,397 - clearml.storage - INFO - Uploading: 7.92MB to /tmp/state.nwzxzff4.json\n"
     ]
    },
    {
     "name": "stderr",
     "output_type": "stream",
     "text": [
      "████████████████████████████████▉ 100% | 7.91/7.92 MB [00:02<00:00,  3.10MB/s]: \n"
     ]
    },
    {
     "name": "stdout",
     "output_type": "stream",
     "text": [
      "2024-11-01 14:22:17,605 - clearml.storage - INFO - Uploading: 7.92MB to /tmp/state.efkeozdo.json\n"
     ]
    },
    {
     "name": "stderr",
     "output_type": "stream",
     "text": [
      "████████████████████████████████▉ 100% | 7.91/7.92 MB [00:02<00:00,  3.06MB/s]: \n"
     ]
    },
    {
     "data": {
      "text/plain": [
       "True"
      ]
     },
     "execution_count": 11,
     "metadata": {},
     "output_type": "execute_result"
    }
   ],
   "source": [
    "ds.upload()\n",
    "ds.finalize()\n",
    "\n",
    "# or\n",
    "# ds.finalize(auto_upload=True)"
   ]
  }
 ],
 "metadata": {
  "kernelspec": {
   "display_name": "test-clearml",
   "language": "python",
   "name": "python3"
  },
  "language_info": {
   "codemirror_mode": {
    "name": "ipython",
    "version": 3
   },
   "file_extension": ".py",
   "mimetype": "text/x-python",
   "name": "python",
   "nbconvert_exporter": "python",
   "pygments_lexer": "ipython3",
   "version": "3.12.7"
  }
 },
 "nbformat": 4,
 "nbformat_minor": 2
}
